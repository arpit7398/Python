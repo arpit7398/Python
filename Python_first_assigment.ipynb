{
  "nbformat": 4,
  "nbformat_minor": 0,
  "metadata": {
    "colab": {
      "provenance": []
    },
    "kernelspec": {
      "name": "python3",
      "display_name": "Python 3"
    },
    "language_info": {
      "name": "python"
    }
  },
  "cells": [
    {
      "cell_type": "code",
      "execution_count": null,
      "metadata": {
        "id": "8D7E-GYW7xL7"
      },
      "outputs": [],
      "source": []
    },
    {
      "cell_type": "markdown",
      "source": [
        "# **1. What is Python, and why is it popular**\n",
        "- pythone is a high level interpreter programming language created by Guido van Rossum and first released in 1991. it emphasize code readability suppprts multi programmig pradigms like this (object-oriented programming language,function)\n",
        "\n",
        "**Popular is python**-\n",
        "  # Easy to learn\n",
        "\n",
        "*   Uses clear,English like syntax with minimal punctuation.\n",
        "*   Great for beginners and experienced devloper.\n",
        "# Versatility\n",
        "\n",
        "\n",
        "*   Web development\n",
        "*   Data science & Machine learning\n",
        "*   Game development Cybersecurity\n",
        "*   Data Analysis\n",
        "# Strong Community Support\n",
        "\n",
        " *   A large, active community contributes tools, libraries, and support.\n",
        "\n",
        "# 2. What is an interpreter in Python\n",
        "\n",
        " - In pytho an interpreter is a preogram that  reads and executs python code line by line without requring it to be compiled into machine code beforehand.it translates each high level statement into lower level instuction that is the computer can understand and run.\n",
        "# There are many types is interpreter\n",
        "1.  Translation  \n",
        "2.   Excution\n",
        "3.   Error Handling\n",
        "\n",
        "# **3. What are pre-defined keywords in Python **\n",
        "\n",
        "- Pre-defined keywords in Python are reserved words that have special meaning to the Python interpreter. You cannot use them as variable names, function names, or identifiers because they are part of the Python syntax and structure.\n",
        " What is mutability in Python\n",
        "  \n",
        "#  ** What is mutability in Python **\n",
        "-  As the name suggest mutability means change if you can edit something.\n",
        "Mutability in python refers to an objects ability to be modified after its creation Mutable objects can have their content or state changed without creting a new object. This means that if you modify a mutable objects any refrence to that object will reflect those change.\n",
        "What are logical operators in Python\n",
        "\n",
        "# **What are logical operators in Python **\n",
        "-  logical operators in python are used to combine conditional satement (usually involving boolean expression) they return either TRUE or FALSE based on the logic\n",
        "\n",
        "\n",
        "# There are three type logical operators-\n",
        "  Logical AND\n",
        "  - Return True only if both conditons are true\n",
        "\n",
        "Logical OR\n",
        "  -  Return True if at least one condition is True\n",
        "\n",
        "Logical NOT\n",
        "  -  Return is False if the condition is True\n",
        "\n",
        "\n",
        "# **What is type casting in Python **\n",
        "\n",
        "-  Type casting in python refers to converting the value of one data type into another. it is called type costing.\n",
        "\n",
        "# Implict Type Casitng\n",
        "\n",
        "\n",
        "*   Done automatically by python.\n",
        "*   Happens when you mix differ type in an expression.\n",
        "*   Python converts the smaller and larger type to avoid data loss.\n",
        "\n",
        "# Explicit Type casting\n",
        "\n",
        "*   Done manually by the programming\n",
        "\n",
        "\n",
        "# ** What is the difference between implicit and explicit type casting **\n",
        "\n",
        "   \n",
        "  # IMPLICIT TYPE CASTING\n",
        "      \n",
        "      1.  Python(automatically)\n",
        "      2.  During oprations where mixed types are involved\n",
        "      3.  To prevent data loss or errors\n",
        "      4.  Programmer has no direct control\n",
        "  \n",
        "  #  EXPLICIT TYPE CASTING\n",
        "      \n",
        "      1.  Done manually by the programmer using functions like int(),float().\n",
        "      2.  To force a converion\n",
        "      3.  programmer has full control\n",
        "    \n",
        "# ** What is the purpose of conditional statements in Python **\n",
        "\n",
        "- Conditional statements in Python are used to make decisions in a program. They help the program execute different blocks of code based on whether a condition is True or False.\n",
        "\n",
        "   # Many types in Conditional Statement\n",
        "    \n",
        "   *  if\n",
        "   *  if-else\n",
        "   *  Nested if\n",
        "\n",
        "\n",
        "#   ** How does the elif statement work **\n",
        "   -  The elif statement stand for (else-if) and is used to check multiple condition in a clean and readable way.\n",
        "\n",
        "  # How It Works:\n",
        "\n",
        "\n",
        "*   The else block is optional\n",
        "*   if no condition are True and there is no else nothing happen\n",
        "*   Python checks conditions top to bottom\n",
        "\n",
        "# **  What is the difference between for and while loops **\n",
        "\n",
        "  # FOR LOOP\n",
        "   1.  The for loop is used when you know in advance how many times you want to execute the block of code.\n",
        "   2.   It iterates over a sequence (e.g., a list, tuple, string, or range) and executes the block of code for each item in the sequence.\n",
        "   3.   The loop variable (variable) takes the value of each item in the sequence during each iteration.\n",
        "\n",
        "\n",
        "  # WHILE LOOP\n",
        "    \n",
        "    1. Used when the number of iteration is not known beforehand.\n",
        "    2. Runs as long as a condition is true.\n",
        "    3. Depends on a condition\n",
        "    4. Must be manually updated.\n",
        "    \n",
        "    \n",
        "# **  Describe a scenario where a while loop is more suitable than a for loop**\n",
        "-  A while loop is more suitable than a for loop when you do not know in advance how many times you need to repeat a block of code in other words when the number of iteration is dependent on a condition on a condition not a fixed range. A for loop wouldrun a fixed number of times even if the password was enter correctly.\n",
        "\n",
        "\n",
        "\n",
        "\n",
        "\n",
        "\n",
        "\n",
        "\n",
        "\n"
      ],
      "metadata": {
        "id": "4OCTKGnB7-CZ"
      }
    },
    {
      "cell_type": "code",
      "source": [
        "**Write a Python program to print \"Hello, World!y**"
      ],
      "metadata": {
        "id": "NVyvEEQRrUzp"
      },
      "execution_count": null,
      "outputs": []
    },
    {
      "cell_type": "code",
      "source": [
        "print(\"Hello World!\")"
      ],
      "metadata": {
        "colab": {
          "base_uri": "https://localhost:8080/"
        },
        "id": "O58jYeW3WGyb",
        "outputId": "c3f1cfec-091e-442e-e45b-04d43860aa11"
      },
      "execution_count": null,
      "outputs": [
        {
          "output_type": "stream",
          "name": "stdout",
          "text": [
            "Hello World!\n"
          ]
        }
      ]
    },
    {
      "cell_type": "code",
      "source": [
        "** Write a Python program that displays your name and age**"
      ],
      "metadata": {
        "id": "80sFRwAzrgEU"
      },
      "execution_count": null,
      "outputs": []
    },
    {
      "cell_type": "code",
      "source": [
        "Name= input(\"Enter your name : \")\n",
        "Age = input(\"Enter your age : \")"
      ],
      "metadata": {
        "colab": {
          "base_uri": "https://localhost:8080/"
        },
        "id": "_PTmRRd4WZJ7",
        "outputId": "347c8c59-60ba-4c80-e3ab-60bfcb000315"
      },
      "execution_count": null,
      "outputs": [
        {
          "name": "stdout",
          "output_type": "stream",
          "text": [
            "Enter your name : Arpit Barnwal\n",
            "Enter your age : 20\n"
          ]
        }
      ]
    },
    {
      "cell_type": "code",
      "source": [
        "**Write code to print all the pre-defined keywords in Python using the keyword library**"
      ],
      "metadata": {
        "id": "xv_E1BlvrmuR"
      },
      "execution_count": null,
      "outputs": []
    },
    {
      "cell_type": "code",
      "source": [
        "help(\"keywords\")"
      ],
      "metadata": {
        "colab": {
          "base_uri": "https://localhost:8080/"
        },
        "id": "MuyGImTWdA-O",
        "outputId": "eb46fba2-2ac5-4eb0-cc2c-40bb486b6601"
      },
      "execution_count": null,
      "outputs": [
        {
          "output_type": "stream",
          "name": "stdout",
          "text": [
            "\n",
            "Here is a list of the Python keywords.  Enter any keyword to get more help.\n",
            "\n",
            "False               class               from                or\n",
            "None                continue            global              pass\n",
            "True                def                 if                  raise\n",
            "and                 del                 import              return\n",
            "as                  elif                in                  try\n",
            "assert              else                is                  while\n",
            "async               except              lambda              with\n",
            "await               finally             nonlocal            yield\n",
            "break               for                 not                 \n",
            "\n"
          ]
        }
      ]
    },
    {
      "cell_type": "code",
      "source": [],
      "metadata": {
        "id": "1l4Gi4MXNn83"
      },
      "execution_count": null,
      "outputs": []
    },
    {
      "cell_type": "code",
      "source": [
        "**Write a program that checks if a given word is a Python keyword.**"
      ],
      "metadata": {
        "id": "G05rZ4EMKrRB"
      },
      "execution_count": null,
      "outputs": []
    },
    {
      "cell_type": "code",
      "source": [
        "import keyword\n",
        "word = input(\"Enter a word to check if it is a python keyword:\")\n",
        "if keyword.iskeyword(word):\n",
        "     print(f\"'{word}' is a python keyword.\")\n",
        "else:\n",
        "     print(f\"'{word}' is not a python keyword.\")"
      ],
      "metadata": {
        "colab": {
          "base_uri": "https://localhost:8080/"
        },
        "id": "alQgAU2lvjuy",
        "outputId": "288a9c33-b449-4b0f-ac9e-54679f582fb9"
      },
      "execution_count": 4,
      "outputs": [
        {
          "output_type": "stream",
          "name": "stdout",
          "text": [
            "Enter a word to check if it is a python keyword:if\n",
            "'if' is a python keyword.\n"
          ]
        }
      ]
    },
    {
      "cell_type": "code",
      "source": [
        "**Create a list and tuple in Python, and demonstrate how attempting to change an element works differently\n",
        "for each**"
      ],
      "metadata": {
        "id": "UXV2VdElK8Qg"
      },
      "execution_count": null,
      "outputs": []
    },
    {
      "cell_type": "code",
      "source": [
        "my_list = [10, 20, 30]\n",
        "my_tuple = (10, 20, 30)\n",
        "\n",
        "# Modifying the list\n",
        "print(\"Original list:\", my_list)\n",
        "my_list[1] = 99\n",
        "print(\"Modified list:\", my_list)\n",
        "\n",
        "# Attempting to modify the tuple\n",
        "print(\"\\nOriginal tuple:\", my_tuple)\n",
        "try:\n",
        "    my_tuple[1] = 99\n",
        "except TypeError as e:\n",
        "  print(\"Error when modifying tuple:\", e)\n"
      ],
      "metadata": {
        "colab": {
          "base_uri": "https://localhost:8080/"
        },
        "id": "5jTdiP551Z0G",
        "outputId": "b4977163-757d-49cf-a066-9c1adbb07ed1"
      },
      "execution_count": 18,
      "outputs": [
        {
          "output_type": "stream",
          "name": "stdout",
          "text": [
            "Original list: [10, 20, 30]\n",
            "Modified list: [10, 99, 30]\n",
            "\n",
            "Original tuple: (10, 20, 30)\n",
            "Error when modifying tuple: 'tuple' object does not support item assignment\n"
          ]
        }
      ]
    },
    {
      "cell_type": "code",
      "source": [
        "**. Write a program that performs basic arithmetic operations on two user-input numbers**"
      ],
      "metadata": {
        "id": "MW2ZnGXaLHDR"
      },
      "execution_count": null,
      "outputs": []
    },
    {
      "cell_type": "code",
      "source": [
        "num1= float (input (\"Enter the first number: \"))\n",
        "num2=float (input(\"Enter the second number: \"))\n",
        "# basic arithmetic opertion\n",
        "addition= num1+num2\n",
        "subtraction=num1-num2\n",
        "multiplication=num1*num2\n",
        "#division opertion\n",
        "if num2!=0:\n",
        "  division=num1/num2\n",
        "else:\n",
        "   division =\"Underfine (cannot divide by zero )\"\n",
        "#Finall Result\n",
        "print(\"\\nResults:\")\n",
        "print(\"addition\",addition)\n",
        "print(\"subtraction\",subtrac3tion)\n",
        "print(\"multiplication\",multiplication)\n",
        "print(\"division\",division)\n"
      ],
      "metadata": {
        "colab": {
          "base_uri": "https://localhost:8080/"
        },
        "id": "WlCjWT7j4hwS",
        "outputId": "53f44bb6-66a1-4f0c-fc2e-2df24b12755c"
      },
      "execution_count": 25,
      "outputs": [
        {
          "output_type": "stream",
          "name": "stdout",
          "text": [
            "Enter the first number: 30\n",
            "Enter the second number: 17\n",
            "\n",
            "Results:\n",
            "addition 47.0\n",
            "subtraction 13.0\n",
            "multiplication 510.0\n",
            "division 1.7647058823529411\n"
          ]
        }
      ]
    },
    {
      "cell_type": "code",
      "source": [
        "**Write a Python program to convert user input from string to integer, float, and boolean types**"
      ],
      "metadata": {
        "id": "Plyt0QzVLPoi"
      },
      "execution_count": null,
      "outputs": []
    },
    {
      "cell_type": "code",
      "source": [
        "#string to integer\n",
        "a=\"5\"\n",
        "type(a)\n",
        "b=int(a)\n",
        "type(b)\n"
      ],
      "metadata": {
        "id": "JV0rtvRl5gPv"
      },
      "execution_count": null,
      "outputs": []
    },
    {
      "cell_type": "code",
      "source": [
        "#string to float\n",
        "a=\"6\"\n",
        "type(a)\n",
        "b=float(a)\n",
        "type(b)"
      ],
      "metadata": {
        "colab": {
          "base_uri": "https://localhost:8080/"
        },
        "id": "efceTulRCzc_",
        "outputId": "2cc202c1-6641-418e-890b-ed574f1c1df7"
      },
      "execution_count": 27,
      "outputs": [
        {
          "output_type": "execute_result",
          "data": {
            "text/plain": [
              "float"
            ]
          },
          "metadata": {},
          "execution_count": 27
        }
      ]
    },
    {
      "cell_type": "code",
      "source": [
        "#string to boolean\n",
        "a=\"4\"\n",
        "type(a)\n",
        "b=bool(a)\n",
        "type(b)"
      ],
      "metadata": {
        "colab": {
          "base_uri": "https://localhost:8080/"
        },
        "id": "D25AG9_dDDj7",
        "outputId": "0deeb903-69c0-4d5b-bd6f-46e984f79d85"
      },
      "execution_count": 29,
      "outputs": [
        {
          "output_type": "execute_result",
          "data": {
            "text/plain": [
              "bool"
            ]
          },
          "metadata": {},
          "execution_count": 29
        }
      ]
    },
    {
      "cell_type": "code",
      "source": [
        "** Write a for loop to print numbers from 1 to 10**"
      ],
      "metadata": {
        "id": "TlosOvSHLYHY"
      },
      "execution_count": null,
      "outputs": []
    },
    {
      "cell_type": "code",
      "source": [
        "\n",
        "\n",
        "for i in range(1,11):\n",
        "  print(i)"
      ],
      "metadata": {
        "colab": {
          "base_uri": "https://localhost:8080/"
        },
        "id": "ShtauavuDIAI",
        "outputId": "e25ef04e-157f-4192-8196-a84c1e130b7f"
      },
      "execution_count": 55,
      "outputs": [
        {
          "output_type": "stream",
          "name": "stdout",
          "text": [
            "1\n",
            "2\n",
            "3\n",
            "4\n",
            "5\n",
            "6\n",
            "7\n",
            "8\n",
            "9\n",
            "10\n"
          ]
        }
      ]
    },
    {
      "cell_type": "code",
      "source": [
        "**Write a program that checks if a number is positive, negative, or zero.**\n",
        "\n"
      ],
      "metadata": {
        "id": "KZy3jCj6MJCn"
      },
      "execution_count": null,
      "outputs": []
    },
    {
      "cell_type": "code",
      "source": [
        "num=float(input(\"Enter a number :\"))\n",
        "if num>0:\n",
        "  print(num,\"is a positive number\")\n",
        "elif num<0:\n",
        "  print(num,\"is a negative number.\")\n",
        "else:\n",
        "  print(\"The number is Zero\")"
      ],
      "metadata": {
        "colab": {
          "base_uri": "https://localhost:8080/"
        },
        "id": "YKhLyFp-MJVv",
        "outputId": "7a9a6446-c9de-4b5f-95d8-8e9807c864ff"
      },
      "execution_count": 51,
      "outputs": [
        {
          "output_type": "stream",
          "name": "stdout",
          "text": [
            "Enter a number :10\n",
            "10.0 is a positive number\n"
          ]
        }
      ]
    },
    {
      "cell_type": "code",
      "source": [
        "**Write a Python program to find the sum of all even numbers between 1 and 50**"
      ],
      "metadata": {
        "id": "f6Q3XfKxNHc4"
      },
      "execution_count": null,
      "outputs": []
    },
    {
      "cell_type": "code",
      "source": [
        "even_sum =0\n",
        "for i in range(1,51):\n",
        "  if i%2==0:\n",
        "    even_sum+=i\n",
        "    print(\"sum of even number between 1 to 50:\",even_sum)"
      ],
      "metadata": {
        "colab": {
          "base_uri": "https://localhost:8080/"
        },
        "id": "FQXRvoFpGVAZ",
        "outputId": "7ed8917f-94e5-425f-b17d-b1f0c7e88c1b"
      },
      "execution_count": 32,
      "outputs": [
        {
          "output_type": "stream",
          "name": "stdout",
          "text": [
            "sum of even number between 1 to 50: 2\n",
            "sum of even number between 1 to 50: 6\n",
            "sum of even number between 1 to 50: 12\n",
            "sum of even number between 1 to 50: 20\n",
            "sum of even number between 1 to 50: 30\n",
            "sum of even number between 1 to 50: 42\n",
            "sum of even number between 1 to 50: 56\n",
            "sum of even number between 1 to 50: 72\n",
            "sum of even number between 1 to 50: 90\n",
            "sum of even number between 1 to 50: 110\n",
            "sum of even number between 1 to 50: 132\n",
            "sum of even number between 1 to 50: 156\n",
            "sum of even number between 1 to 50: 182\n",
            "sum of even number between 1 to 50: 210\n",
            "sum of even number between 1 to 50: 240\n",
            "sum of even number between 1 to 50: 272\n",
            "sum of even number between 1 to 50: 306\n",
            "sum of even number between 1 to 50: 342\n",
            "sum of even number between 1 to 50: 380\n",
            "sum of even number between 1 to 50: 420\n",
            "sum of even number between 1 to 50: 462\n",
            "sum of even number between 1 to 50: 506\n",
            "sum of even number between 1 to 50: 552\n",
            "sum of even number between 1 to 50: 600\n",
            "sum of even number between 1 to 50: 650\n"
          ]
        }
      ]
    },
    {
      "cell_type": "code",
      "source": [
        "** Write a Python program to calculate the factorial of a number provided by the user using a while loop**"
      ],
      "metadata": {
        "id": "SKTW66NRNVZU"
      },
      "execution_count": null,
      "outputs": []
    },
    {
      "cell_type": "code",
      "source": [
        "num=int(input(\"Enter a number:\"))\n",
        "Factorial=1\n",
        "if num<0:\n",
        "  print(\"Factorial is not defined for negative number.\")\n",
        "elif num==0 or num==1:\n",
        "  print(\"Factorial of\",num,\"is 1\")\n",
        "else:\n",
        "    i=1\n",
        "    while i<=num:\n",
        "      Factorial*=1\n",
        "      i+=1\n",
        "      print(\"Factorial of\",num,\"is\",Factorial)"
      ],
      "metadata": {
        "colab": {
          "base_uri": "https://localhost:8080/"
        },
        "id": "Gswx0Dr9Hrxi",
        "outputId": "f5a0d666-7140-4d16-fc5f-caa2fb7dd5f1"
      },
      "execution_count": 47,
      "outputs": [
        {
          "output_type": "stream",
          "name": "stdout",
          "text": [
            "Enter a number:5\n",
            "Factorial of 5 is 1\n",
            "Factorial of 5 is 1\n",
            "Factorial of 5 is 1\n",
            "Factorial of 5 is 1\n",
            "Factorial of 5 is 1\n"
          ]
        }
      ]
    }
  ]
}